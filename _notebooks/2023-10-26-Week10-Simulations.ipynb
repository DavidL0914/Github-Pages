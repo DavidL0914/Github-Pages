{
 "cells": [
  {
   "cell_type": "markdown",
   "metadata": {},
   "source": [
    "---\n",
    "toc: false\n",
    "comments: true\n",
    "layout: post\n",
    "title:  Simulations (Team Teach)\n",
    "description: Notes and homework on Simulations Team Teach\n",
    "courses: { csp: {week: 10} }\n",
    "type: hacks\n",
    "---"
   ]
  },
  {
   "cell_type": "markdown",
   "metadata": {},
   "source": [
    "## Notes\n",
    "### Essential Knowledge:\n",
    "- Simulations are abstractions for complex objects or phenomena.\n",
    "- They mimic real-world events with simplifications.\n",
    "- Simulations are used to refine results or hypotheses.\n",
    "- They may have limitations or biases.\n",
    "- Examples include radar displays, RNG for simulating variability, and weather forecasting.\n",
    "- Car-testing simulations assume certain conditions like driver age and seatbelt use.\n",
    "\n",
    "### Flight Simulator:\n",
    "- Flight simulator is an example of a simulation.\n",
    "- It allows users to simulate flying real planes, choosing the plane type and location.\n",
    "- Benefits include cost savings, safety, and resource conservation.\n",
    "- Simulations save money and resources but aren't actual real-life experiences.\n",
    "\n",
    "### Vocabulary:\n",
    "- Simulation Abstraction: Errors or unusual occurrences in simulations.\n",
    "- Heuristic: an approach used when the best solution is impractical.\n",
    "\n",
    "### Simulations vs. Experiments:\n",
    "- Simulations mock real-world items without using the actual items.\n",
    "- Experiments involve real-world objects and equipment.\n",
    "- Simulations are often less expensive.\n",
    "- Experiments provide actual results.\n",
    "- Simulations can model impractical real-world events.\n",
    "- Experiments can be riskier and more invasive.\n",
    "- Simulations are safer and less expensive.\n",
    "\n",
    "### Algorithmic Efficiency:\n",
    "- It measures the fastest and least resource-dependent solution to a problem.\n",
    "- It's determined by the number of computations (steps) in an algorithm.\n",
    "- Efficiency varies with input size.\n",
    "\n",
    "### Basic Algorithm Example:\n",
    "- Sorting cards with comparisons and swaps.\n",
    "- More efficient algorithms require fewer comparisons and swaps.\n",
    "\n",
    "### Algorithm Efficiency Simply Explained:\n",
    "- Efficiency is measured by the number of steps.\n",
    "- Algorithms need to be analyzed with different input sizes.\n",
    "- Reasonable algorithms operate with polynomial efficiency.\n"
   ]
  },
  {
   "cell_type": "markdown",
   "metadata": {},
   "source": [
    "## Homework"
   ]
  },
  {
   "cell_type": "code",
   "execution_count": null,
   "metadata": {},
   "outputs": [],
   "source": [
    "# HW 1: 4 numbers from lowest to highest\n",
    "def sort_numbers(a, b, c, d):\n",
    "    # Create a list of the numbers\n",
    "    numbers = [a, b, c, d]\n",
    "    \n",
    "    # Sort the list in ascending order\n",
    "    numbers.sort()\n",
    "    \n",
    "    # Return the sorted numbers\n",
    "    return numbers\n",
    "\n",
    "# Example usage:\n",
    "a = 3\n",
    "b = 1\n",
    "c = 4\n",
    "d = 2\n",
    "\n",
    "sorted_nums = sort_numbers(a, b, c, d)\n",
    "print(\"Sorted numbers:\", sorted_nums)"
   ]
  },
  {
   "cell_type": "markdown",
   "metadata": {},
   "source": [
    "#### HW 2: Benefits and Negative of Using a Simulation\n",
    "- Benefit - Cost-Effective: Simulations can be much more cost-effective than conducting real-world experiments, as they don't require physical resources or expensive equipment.\n",
    "- Benefit - Safety: Simulations allow for the testing of scenarios that would be dangerous or risky in the real world, ensuring the safety of participants and valuable assets.\n",
    "- Benefit - Resource Conservation: Simulations reduce resource consumption, such as fuel or materials, which is important for environmental and economic reasons.\n",
    "- Negative - Lack of Real-Life Accuracy: Simulations may not always accurately replicate real-world conditions, leading to potential biases and limitations. They may not provide a complete understanding of complex, real-world systems, and some details might be oversimplified or overlooked."
   ]
  },
  {
   "cell_type": "markdown",
   "metadata": {},
   "source": [
    "#### HW 3: Social Media that uses Simulation\n",
    "- News feed algorithm - Social media platoforms like Instagram use algorithms to curate and personalize people's feeds (For You Page). These algorithms take into account a variety of factors, such as a user's past interactions, content preferences, and the popularity of posts, to show them content that is more relevant and engaging. "
   ]
  }
 ],
 "metadata": {
  "language_info": {
   "name": "python"
  },
  "orig_nbformat": 4
 },
 "nbformat": 4,
 "nbformat_minor": 2
}
