{
 "cells": [
  {
   "cell_type": "markdown",
   "metadata": {},
   "source": [
    "---\n",
    "toc: false\n",
    "comments: true\n",
    "layout: post\n",
    "title:  Procedures (Team Teach)\n",
    "description: Notes and homework on Procedures Team Teach\n",
    "courses: { csp: {week: 10} }\n",
    "type: hacks\n",
    "---"
   ]
  },
  {
   "cell_type": "markdown",
   "metadata": {},
   "source": [
    "## Notes\n",
    "### Parts of a Procedure\n",
    "- A group of programming instructions, also known as methods or functions.\n",
    "- Parameters are input values of a procedure, and arguments are the values of the parameters when the procedure is called.\n",
    "- A procedure call interrupts the sequential execution of statements, executes the procedure's statements, and then returns control to the point immediately following the call.\n",
    "\n",
    "### Procedure Example:\n",
    "- Procedures allow you to reuse sets of instructions, enhancing code reusability.\n",
    "- A procedure in Python is defined using the def keyword and can take parameters.\n",
    "- Parameters are the input values to a procedure, and when you call a procedure, you provide arguments.\n",
    "- A procedure can return a value using the return statement. The returned value can be assigned to a variable and manipulated.\n",
    "\n",
    "## Modularity and Code Simplification:\n",
    "- Modularity involves breaking a program into separate sub-programs.\n",
    "- Procedures help simplify code, improve readability, and allow code reuse.\n",
    "\n",
    "## Reusability and Flexibility:\n",
    "- Procedures can be reused with different arguments, making code flexible.\n",
    "- Changing a procedure's code only affects the procedure, not the entire program.\n",
    "\n",
    "## Procedure Abstraction:\n",
    "- Procedures are an example of abstraction, allowing you to call a procedure without knowing how it works.\n",
    "- Abstraction helps solve complex problems based on solutions to smaller sub-problems.\n",
    "\n",
    "## Anatomy of Python Classes:\n",
    "- Class definition starts with the class keyword and is followed by a colon.\n",
    "- Attributes are variables that belong to a class and are accessed using the dot notation.\n",
    "Methods are functions defined within a class and operate on objects or modify attributes.\n",
    "- The \"init\" method is a constructor called when an object is created.\n",
    "- \"self\" represents the instance of the class and is used to access attributes and methods."
   ]
  },
  {
   "cell_type": "markdown",
   "metadata": {},
   "source": [
    "## Homework"
   ]
  },
  {
   "cell_type": "code",
   "execution_count": null,
   "metadata": {},
   "outputs": [],
   "source": [
    "# HW 1: Procedural abstraction\n",
    "def procedural_abstraction(a, b):\n",
    "    result = a + b\n",
    "    return result\n",
    "\n",
    "# Example usage of procedural_abstraction\n",
    "x = 7\n",
    "y = 5\n",
    "result = procedural_abstraction(x, y)\n",
    "print(f\"The sum of {x} and {y} is {result}\")"
   ]
  },
  {
   "cell_type": "code",
   "execution_count": null,
   "metadata": {},
   "outputs": [],
   "source": [
    "# HW 2: Summing machine\n",
    "def summing_machine(first_number, second_number):\n",
    "    sum_result = first_number + second_number\n",
    "    return sum_result\n",
    "\n",
    "# Calculate the sum of 7 and 5 using the summing_machine function\n",
    "num1 = 7\n",
    "num2 = 5\n",
    "total = summing_machine(num1, num2)\n",
    "print(f\"The sum of {num1} and {num2} is {total}\")"
   ]
  }
 ],
 "metadata": {
  "language_info": {
   "name": "python"
  },
  "orig_nbformat": 4
 },
 "nbformat": 4,
 "nbformat_minor": 2
}
