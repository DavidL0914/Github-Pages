{
 "cells": [
  {
   "cell_type": "markdown",
   "metadata": {},
   "source": [
    "---\n",
    "toc: false\n",
    "comments: true\n",
    "layout: post\n",
    "title: Data Abstractions (Team Teach)\n",
    "description: Notes and completely homework on Data Abstractions Team Teach\n",
    "courses: { csp: {week: 7} }\n",
    "type: hacks\n",
    "---"
   ]
  },
  {
   "cell_type": "markdown",
   "metadata": {},
   "source": [
    "## Notes\n",
    "### Variables\n",
    "- An abstraction inside a program that can hold a value.\n",
    "- Can be thought of as a container or a box that holds information that your program can use or modify.\n",
    "- Help you manage and organize your work with data, making your code more organized, readable, and adaptable.\n",
    "\n",
    "### Data types to store variables in\n",
    "- Integer: Used to store numbers that can later be used in mathematical operations, e.g., age or temperature.\n",
    "- Text (String): Used to store text, lists, and words that can later be referenced, e.g., Name, phone number, or address.\n",
    "- Boolean: Used to store simply true or false values, e.g., is it raining.\n",
    "\n",
    "### Naming variables\n",
    "- DON'T DO: \n",
    "    - Too long and can make the code messy.\n",
    "    - Dashes and spaces are not allowed when naming variables.\n",
    "- DO:\n",
    "    - Should be short, descriptive, and easy to distinguish the type of variable.\n",
    "    - Variable names must start with a letter or an underscore.\n",
    "    - They cannot start with a number.\n",
    "    - Variable names can only have alphanumeric characters or underscores.\n",
    "    - Variable names are case sensitive.\n",
    "    - Variable names cannot be Python keywords, such as 'else'.\n",
    "\n",
    "### Primitive vs. Collection Data Types:\n",
    "#### Primitive:\n",
    "- int\n",
    "- string\n",
    "- float\n",
    "- boolean\n",
    "\n",
    "#### Collection Data Types:\n",
    "- list\n",
    "- dictionary\n",
    "\n",
    "### Concatenation:\n",
    "- The joining of strings and other types\n",
    "- Can perform mathematical operations, e.g., addition.\n",
    "\n",
    "### Formatting:\n",
    "- Allows us to display values using pre-decided rules.\n",
    "- Can format strings and other data types as needed.\n",
    "\n",
    "### Things to remember for lists:\n",
    "- Use to store multiple elements.\n",
    "- Data abstraction provides a separation between abstract parts of a data type and the actual details of it.\n",
    "- Can be created using list notations from the exam reference sheet.\n",
    "- The reference sheet has a list structure with index values 1-# of elements in the list. If a list index is less than 1 or greater than the list, it will produce an error.\n",
    "- Lists are good as they result in: fewer variables, more consistency, and improved readability."
   ]
  },
  {
   "cell_type": "markdown",
   "metadata": {},
   "source": [
    "## Homework"
   ]
  },
  {
   "cell_type": "code",
   "execution_count": null,
   "metadata": {},
   "outputs": [],
   "source": [
    "# HW 1 - Integer addition\n",
    "num1Int = 10\n",
    "num2Int = 5\n",
    "sum_result = num1Int + num2Int\n",
    "print(\"Sum:\", sum_result)"
   ]
  },
  {
   "cell_type": "code",
   "execution_count": null,
   "metadata": {},
   "outputs": [],
   "source": [
    "# HW 2 - Float division\n",
    "float1 = 7.5\n",
    "float2 = 2.0\n",
    "quotient_result = float1 / float2\n",
    "print(\"Quotient:\", quotient_result)"
   ]
  },
  {
   "cell_type": "code",
   "execution_count": null,
   "metadata": {},
   "outputs": [],
   "source": [
    "# HW 3 - String formatting\n",
    "message = \"My name is {}, and I live in {}.\"\n",
    "name = \"David\"\n",
    "location = \"San Diego\"\n",
    "formatted_message = message.format(name, location)\n",
    "print(formatted_message)"
   ]
  },
  {
   "cell_type": "code",
   "execution_count": null,
   "metadata": {},
   "outputs": [],
   "source": [
    "# HW 4 - List creation\n",
    "var1 = 7\n",
    "var2 = 9\n",
    "var3 = 2\n",
    "var4 = 8\n",
    "varsList = [var1, var2, var3, var4]\n",
    "print(varsList)"
   ]
  }
 ],
 "metadata": {
  "language_info": {
   "name": "python"
  },
  "orig_nbformat": 4
 },
 "nbformat": 4,
 "nbformat_minor": 2
}
