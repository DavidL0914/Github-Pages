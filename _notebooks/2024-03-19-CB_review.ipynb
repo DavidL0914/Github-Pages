{
 "cells": [
  {
   "cell_type": "markdown",
   "metadata": {},
   "source": [
    "---\n",
    "toc: true\n",
    "comments: true\n",
    "layout: post\n",
    "title: CB Review\n",
    "courses: { csp: {week: 27} }\n",
    "type: hacks\n",
    "---"
   ]
  },
  {
   "cell_type": "markdown",
   "metadata": {},
   "source": [
    "# CB Results\n",
    "![Results](https://github.com/DavidL0914/student/assets/67357222/e9563aba-af3a-444e-a8c0-7e4de0bb6a0c)\n",
    "<br>\n",
    "Score: 59/70"
   ]
  },
  {
   "cell_type": "markdown",
   "metadata": {},
   "source": [
    "# Corrections\n",
    "Q9: Which of the following best explains how an analog audio signal is typically represented by a computer?\n",
    "A. An analog audio signal is measured at regular intervals. Each measurement is stored as a sample, which is represented at the lowest level as a sequence of bits.\n",
    "Reflection:. \"Analog audio signal\" refers to a continuous electrical representation of sound waves, while \"computer representation\" involves converting this analog signal into discrete digital samples. \"Regular intervals\" refer to the frequency at which these samples are taken, and \"sequence of bits\" represents the digital form of the audio signal stored by the computer, with each bit encoding information about the amplitude of the signal at a particular point in time.\n",
    "<br>\n",
    "Q14:\n",
    "![Q14](https://github.com/DavidL0914/student/assets/67357222/88139e13-3b44-42f3-a611-a50dad6148a9)\n",
    "A. Lines 8 and 12 should be interchanged.\n",
    "Reflection: By interchanging lines 8 and 12, the program will correctly return false only after iterating through the entire list without finding any instance where the current number is less than the previous one, ensuring that the list is indeed increasing.\n",
    "<br>\n",
    "Q27: A certain social media application is popular with people across the United States. The developers of the application are updating the algorithm used by the application to introduce a new feature that allows users of the application with similar interests to connect with one another. Which of the following strategies is LEAST likely to introduce bias into the application?\n",
    "A. Inviting a random sample of all users to try out the new algorithm and provide feedback before it is released to a wider audience.\n",
    "Reflection: By inviting a random sample of all users to try out the new algorithm and provide feedback, the developers can ensure a diverse representation of users across different demographics and interests, thus minimizing the risk of introducing bias. This approach allows for a more comprehensive evaluation of the new feature's effectiveness and user experience.\n",
    "<br>\n",
    "Q33: \n",
    "![Q33](https://github.com/DavidL0914/student/assets/67357222/10e6c98e-8aad-4723-b1ae-556bcb447083)\n",
    "A. Algorithm II uses a heuristic approach to provide an approximate solution in reasonable time.\n",
    "Reflection: A heuristic is a technique designed for solving a problem more quickly when classic methods are too slow or impractical. In this case, Algorithm II selects the nearest unvisited delivery location at each step, which is a heuristic method for finding a solution to the traveling salesman problem (minimizing route length), although it may not guarantee the absolute shortest route.\n",
    "<br>\n",
    "Q38: A scientist wants to investigate several problems. In which of the following situations is using a simulation LEAST suitable for solving a problem?\n",
    "A. When the solution to the problem requires real-world data inputs that are continually measured at regular intervals.\n",
    "Reflection: Simulations typically involve creating a model to imitate a real-world system or process, and if the solution requires ongoing real-time data inputs, a simulation may not accurately reflect the dynamic nature of the problem over time.\n",
    "<br>\n",
    "Q44: A program developed for a Web store represents customer account balances using a format that approximates real numbers. While testing the program, a software developer discovers that some values appear to be mathematically imprecise. Which of the following is the most likely cause of the imprecision?\n",
    "A. The account balances are represented using a fixed number of bits, resulting in round-off errors.\n",
    "Reflection: When representing real numbers in a computer program, finite precision is used due to the limitations of binary representation. This can lead to round-off errors, where numbers cannot be represented exactly, especially when dealing with fractional values or numbers that cannot be precisely represented in the chosen number of bits.\n",
    "<br>\n",
    "Q53: \n",
    "![Q53](https://github.com/DavidL0914/student/assets/67357222/fc479ad4-f2c2-4026-aed6-cc2b47b4363d)\n",
    "A. Step 4 - Repeat steps 2 and 3 until the value of position is greater than n. | Step 5 - If count is greater than or equal to 2, display true. Otherwise, display false.\n",
    "Reflection: Step 4 ensures that the algorithm continues to check each element of the list until it reaches the end. Step 5 accurately reflects the intention of the algorithm to return true if the target value appears more than once, and false otherwise.\n",
    "<br>\n",
    "Q55: A code segment is intended to transform the list utensils so that the last element of the list is moved to the beginning of the list. For example, if utensils initially contains  [\"fork\", \"spoon\", \"tongs\", \"spatula\", \"whisk\"], it should contain [\"whisk\", \"fork\", \"spoon\", \"tongs\", \"spatula\"] after executing the code segment. Which of the following code segments transforms the list as intended?\n",
    "A. ![A55](https://github.com/DavidL0914/student/assets/67357222/cd1bd28c-053a-4388-a7e8-03b6a56c5f2d)\n",
    "Reflection: This code segment assigns the value of the last element of the list to the variable temp, then removes the last element of the list, then inserts temp as the first element of the list.\n",
    "<br>\n",
    "Q57:\n",
    "![Q57](https://github.com/DavidL0914/student/assets/67357222/f06b263d-21e4-4409-9db1-78405ded721d)\n",
    "A. Running processes P and Q on one processor and processes R and S on the other processor.\n",
    "Reflection: When two processors work simultaneously, the optimal scenario occurs when each processor shares an almost equal workload. If processes P and Q are executed on one processor, they will collectively require 40 seconds. Similarly, processes R and S on the other processor will take a combined 35 seconds. As both processors operate simultaneously, all four operations can be completed within 40 seconds.\n",
    "<br>\n",
    "Q66:\n",
    "![Q66](https://github.com/DavidL0914/student/assets/67357222/e54941c3-d52c-48f1-8027-fb18a6ab2234)\n",
    "A. ![A66](https://github.com/DavidL0914/student/assets/67357222/9aa7899e-61b1-4f5f-9e35-82e78eefd634)\n",
    "![A662](https://github.com/DavidL0914/student/assets/67357222/b2e706f0-94c6-454d-af8a-5e644a33df1e)\n",
    "Reflection: This code segment sets the default value of the bonus variable to 500. If the timer variable is less than 30, no additional bonus points are added. If the timer variable is between 30 and 60 (inclusive), an additional 500 bonus points are added in the first IF block. If the timer variable is greater than 60, bonus points are incremented by 500 twice (once in each IF block), resulting in the correct number of bonus points assigned to the bonus variable for all possible values of the timer variable.\n",
    "<br>\n",
    "Q68:\n",
    "![Q68](https://github.com/DavidL0914/student/assets/67357222/002e5b89-51b9-4403-986f-c62f8c56cccb)\n",
    "A. [10, 10, 20, 20, 10, 10] | [30, 50, 40, 10, 20, 40]\n",
    "Reflection: The code segment will traverse myList in a right-to-left manner, eliminating any element that matches the value of the element directly preceding it. Since this list lacks any consecutive pairs of identical elements, no elements will be eliminated, despite the presence of the value 40 appearing twice in the list."
   ]
  }
 ],
 "metadata": {
  "language_info": {
   "name": "python"
  }
 },
 "nbformat": 4,
 "nbformat_minor": 2
}
