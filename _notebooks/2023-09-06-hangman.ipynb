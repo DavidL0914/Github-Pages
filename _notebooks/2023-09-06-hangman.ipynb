{
 "cells": [
  {
   "cell_type": "markdown",
   "metadata": {},
   "source": [
    "---\n",
    "toc: false\n",
    "comments: false\n",
    "layout: post\n",
    "title: Hangman\n",
    "description: A Hangman game built with Python!\n",
    "courses: { csp: {week: 3} }\n",
    "type: tangibles\n",
    "---"
   ]
  },
  {
   "cell_type": "code",
   "execution_count": 1,
   "metadata": {},
   "outputs": [
    {
     "name": "stdout",
     "output_type": "stream",
     "text": [
      "_ _ _ _ _ _ _ _\n",
      "Guessed Letters: \n",
      "_ a _ _ _ _ _ _\n",
      "Guessed Letters: a\n",
      "Wrong guess! You have 5 attempts left.\n",
      "_ a _ _ _ _ _ _\n",
      "Guessed Letters: a e\n",
      "Wrong guess! You have 4 attempts left.\n",
      "_ a _ _ _ _ _ _\n",
      "Guessed Letters: a e f\n",
      "Wrong guess! You have 3 attempts left.\n",
      "_ a _ _ _ _ _ _\n",
      "Guessed Letters: a e f l\n",
      "p a _ _ _ _ _ _\n",
      "Guessed Letters: a e f l p\n",
      "p a s s _ _ _ _\n",
      "Guessed Letters: a e f l p s\n",
      "p a s s w _ _ _\n",
      "Guessed Letters: a e f l p s w\n",
      "p a s s w o _ _\n",
      "Guessed Letters: a e f l p s w o\n",
      "p a s s w o r _\n",
      "Guessed Letters: a e f l p s w o r\n",
      "Congratulations! You've won. The word was password\n"
     ]
    }
   ],
   "source": [
    "import random\n",
    "# List of words to choose from\n",
    "word_list = [\"python\", \"hangman\", \"programming\", \"computer\", \"keyboard\", \"developer\", \"password\"]\n",
    "# Select a random word from the list\n",
    "chosen_word = random.choice(word_list)\n",
    "# Create a list to store the guessed letters\n",
    "guessed_letters = []\n",
    "# Maximum number of allowed incorrect guesses\n",
    "max_attempts = 6\n",
    "attempts = 0\n",
    "# Display the initial state of the game\n",
    "display_word = [\"_\"] * len(chosen_word)\n",
    "while True:\n",
    "    # Print the current state of the game\n",
    "    print(\" \".join(display_word))\n",
    "    print(f\"Guessed Letters: {' '.join(guessed_letters)}\")\n",
    "    # Ask the player for a letter guess\n",
    "    guess = input(\"Guess a letter: \").lower()\n",
    "    # Check if the guess is a single letter\n",
    "    if len(guess) != 1 or not guess.isalpha():\n",
    "        print(\"Please enter a single letter.\")\n",
    "        continue\n",
    "    # Check if the letter has already been guessed\n",
    "    if guess in guessed_letters:\n",
    "        print(\"You've already guessed that letter.\")\n",
    "        continue\n",
    "    guessed_letters.append(guess)\n",
    "    # Check if the guess is correct\n",
    "    if guess in chosen_word:\n",
    "        for i in range(len(chosen_word)):\n",
    "            if chosen_word[i] == guess:\n",
    "                display_word[i] = guess\n",
    "    else:\n",
    "        attempts += 1\n",
    "        print(f\"Wrong guess! You have {max_attempts - attempts} attempts left.\")\n",
    "    # Check if the player has won or lost\n",
    "    if \"_\" not in display_word:\n",
    "        print(f\"Congratulations! You've won. The word was {chosen_word}\")\n",
    "        break\n",
    "    elif attempts == max_attempts:\n",
    "        print(f\"You've run out of attempts. The word was '{chosen_word}'. Game over!\")\n",
    "        break"
   ]
  }
 ],
 "metadata": {
  "kernelspec": {
   "display_name": "Python 3",
   "language": "python",
   "name": "python3"
  },
  "language_info": {
   "codemirror_mode": {
    "name": "ipython",
    "version": 3
   },
   "file_extension": ".py",
   "mimetype": "text/x-python",
   "name": "python",
   "nbconvert_exporter": "python",
   "pygments_lexer": "ipython3",
   "version": "3.10.12"
  },
  "orig_nbformat": 4
 },
 "nbformat": 4,
 "nbformat_minor": 2
}
