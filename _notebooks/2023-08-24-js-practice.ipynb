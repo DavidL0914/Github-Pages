{
 "cells": [
  {
   "cell_type": "markdown",
   "metadata": {},
   "source": [
    "---\n",
    "toc: false\n",
    "comments: true\n",
    "layout: post\n",
    "title: Javascript Practice\n",
    "description: A simple Javascript program using the \"if\" condition\n",
    "courses: { csp: {week: 1} }\n",
    "type: tangibles\n",
    "---"
   ]
  },
  {
   "cell_type": "code",
   "execution_count": 1,
   "metadata": {
    "vscode": {
     "languageId": "javascript"
    }
   },
   "outputs": [
    {
     "ename": "SyntaxError",
     "evalue": "invalid syntax (2405221810.py, line 1)",
     "output_type": "error",
     "traceback": [
      "\u001b[0;36m  Cell \u001b[0;32mIn[1], line 1\u001b[0;36m\u001b[0m\n\u001b[0;31m    // Check if one variable equals another\u001b[0m\n\u001b[0m    ^\u001b[0m\n\u001b[0;31mSyntaxError\u001b[0m\u001b[0;31m:\u001b[0m invalid syntax\n"
     ]
    }
   ],
   "source": [
    "// Check if one variable equals another\n",
    "var variable1 = 5;\n",
    "var variable2 = 5;\n",
    "\n",
    "if (variable1 === variable2) {\n",
    "    // Initialize a variable to store the sum\n",
    "    var sum = 0;\n",
    "\n",
    "    // Define the number of times to repeat\n",
    "    var n = 100;\n",
    "\n",
    "    // Loop to repeat the action n times\n",
    "    for (var i = 0; i < n; i++) {\n",
    "        // Add the current value of i to the sum\n",
    "        sum += i;\n",
    "    }\n",
    "\n",
    "    // Print the sum\n",
    "    console.log(\"Sum of numbers:\", sum);\n",
    "} else {\n",
    "    console.log(\"Variables are not equal.\");\n",
    "}"
   ]
  }
 ],
 "metadata": {
  "kernelspec": {
   "display_name": "Python 3",
   "language": "python",
   "name": "python3"
  },
  "language_info": {
   "codemirror_mode": {
    "name": "ipython",
    "version": 3
   },
   "file_extension": ".py",
   "mimetype": "text/x-python",
   "name": "python",
   "nbconvert_exporter": "python",
   "pygments_lexer": "ipython3",
   "version": "3.10.6"
  },
  "orig_nbformat": 4
 },
 "nbformat": 4,
 "nbformat_minor": 2
}
