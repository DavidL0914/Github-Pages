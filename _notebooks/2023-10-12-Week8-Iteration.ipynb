{
 "cells": [
  {
   "cell_type": "markdown",
   "metadata": {},
   "source": [
    "---\n",
    "toc: false\n",
    "comments: true\n",
    "layout: post\n",
    "title: Iterations (Team Teach)\n",
    "description: Notes and completely homework on Iterations Team Teach\n",
    "courses: { csp: {week: 8} }\n",
    "type: hacks\n",
    "---"
   ]
  },
  {
   "cell_type": "markdown",
   "metadata": {},
   "source": [
    "## Homework"
   ]
  },
  {
   "cell_type": "code",
   "execution_count": null,
   "metadata": {},
   "outputs": [],
   "source": [
    "# HW 1: Print Interests\n",
    "interests = [\"Volleyball\", \"Coding\", \"Reading\", \"Sleeping\", \"Eating\"]\n",
    "\n",
    "def print_interests(interests, index=0):\n",
    "    if index < len(interests):\n",
    "        print(interests[index])\n",
    "        print_interests(interests, index + 1)\n",
    "\n",
    "print_interests(interests)"
   ]
  },
  {
   "cell_type": "code",
   "execution_count": null,
   "metadata": {},
   "outputs": [],
   "source": [
    "# HW 2: Fibonacci Sequence\n",
    "def fibonacci(x):\n",
    "    if x == 1:\n",
    "        return 0  # First terminating statement: F(1) = 0\n",
    "    if x == 2:\n",
    "        return 1  # Second terminating statement: F(2) = 1\n",
    "    else:\n",
    "        # Recursive case: F(x) = F(x-1) + F(x-2)\n",
    "        return fibonacci(x - 1) + fibonacci(x - 2)\n",
    "\n",
    "# Print Fibonacci numbers for the first 8 values (F(1) to F(8))\n",
    "for i in range(8):\n",
    "    print(fibonacci(i + 1))"
   ]
  },
  {
   "cell_type": "code",
   "execution_count": null,
   "metadata": {},
   "outputs": [],
   "source": [
    "# HW 3 - Grading System\n",
    "# Get user input for marks\n",
    "marks = float(input(\"Enter your marks: \"))\n",
    "\n",
    "# Determine the grade based on the grading system\n",
    "if marks < 25:\n",
    "    grade = \"F\"\n",
    "elif 25 <= marks < 45:\n",
    "    grade = \"E\"\n",
    "elif 45 <= marks < 50:\n",
    "    grade = \"D\"\n",
    "elif 50 <= marks < 60:\n",
    "    grade = \"C\"\n",
    "elif 60 <= marks < 80:\n",
    "    grade = \"B\"\n",
    "else:\n",
    "    grade = \"A\"\n",
    "\n",
    "# Print the corresponding grade\n",
    "print(f\"Your grade is: {grade}\")"
   ]
  }
 ],
 "metadata": {
  "language_info": {
   "name": "python"
  },
  "orig_nbformat": 4
 },
 "nbformat": 4,
 "nbformat_minor": 2
}
