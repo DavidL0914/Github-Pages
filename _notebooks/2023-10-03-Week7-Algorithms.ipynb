{
 "cells": [
  {
   "cell_type": "markdown",
   "metadata": {},
   "source": [
    "---\n",
    "toc: false\n",
    "comments: true\n",
    "layout: post\n",
    "title: Algorithms (Team Teach)\n",
    "description: Notes and homework on Algorithms Team Teach\n",
    "courses: { csp: {week: 7} }\n",
    "type: hacks\n",
    "---"
   ]
  },
  {
   "cell_type": "markdown",
   "metadata": {},
   "source": [
    "## Notes\n",
    "### Algorithms\n",
    "- A step-by-step procedure for problem-solving.\n",
    "- Clear input, operations, and output.\n",
    "- Finite and can be represented in various forms (e.g., pseudocode).\n",
    "\n",
    "### Pseudocode\n",
    "- Algorithm description using natural language and structured programming.\n",
    "    - Main language on CSP tests - easy to understand\n",
    "\n",
    "### String Operations\n",
    "- Manipulating and processing text or character sequences.\n",
    "- Includes concatenation, substring extraction, searching, and replacement.\n",
    "\n",
    "### Palindrome\n",
    "- Palindromes are strings that read the same forwards and backward.\n",
    "\n",
    "### Math Algorithms\n",
    "- Addition: a + b\n",
    "- Subtraction: a - b\n",
    "- Multiplication: a * b\n",
    "- Division: a / b\n",
    "- Modules: a MOD b\n",
    "\n",
    "### Fibonacci Sequence\n",
    "- Series of numbers where each is the sum of the two preceding ones.\n",
    "    - Infinite sequence of integers\n",
    "\n",
    "### Time Complexity\n",
    "- Measures algorithm efficiency in terms of time and input size.\n",
    "- Common notations: O(1), O(n), O(log n), O(n^2), etc.\n",
    "- Helps analyze and optimize algorithm performance."
   ]
  },
  {
   "cell_type": "markdown",
   "metadata": {},
   "source": [
    "## Homework"
   ]
  },
  {
   "cell_type": "code",
   "execution_count": null,
   "metadata": {},
   "outputs": [],
   "source": [
    "# 1. Write Python Code or Psuedo Code that is able to take a string as input and detect if its a palindrome\n",
    "def is_palindrome(input_string):\n",
    "    return input_string == input_string[::-1]\n",
    "\n",
    "input_string = input(\"Enter a string: \")\n",
    "\n",
    "if is_palindrome(input_string) == True:\n",
    "    print(f\"{input_string} is a palindrome.\")\n",
    "else:\n",
    "    print(f\"{input_string} is not a palindrome.\")"
   ]
  },
  {
   "cell_type": "code",
   "execution_count": null,
   "metadata": {},
   "outputs": [],
   "source": [
    "# 2. Create a program that uses at least 1 of the algorithmic concepts covered in this notebook in a real-world application\n",
    "def binary_search(arr, target):\n",
    "    left = 0\n",
    "    right = len(arr) - 1\n",
    "    while left <= right:\n",
    "        mid = (left + right) // 2\n",
    "        mid_value = arr[mid\n",
    "        if mid_value == target:\n",
    "            return mid\n",
    "        elif mid_value < target:\n",
    "            left = mid + 1\n",
    "        else:\n",
    "            right = mid - 1\n",
    "    return -1\n",
    "\n",
    "arr = [1, 3, 5, 7, 9, 11, 13]\n",
    "target = 1\n",
    "result = binary_search(arr, target)\n",
    "if result != -1:\n",
    "    print(f\"Element {target} found at index {result}\")\n",
    "else:\n",
    "    print(f\"Element {target} not found in the array\")"
   ]
  }
 ],
 "metadata": {
  "language_info": {
   "name": "python"
  },
  "orig_nbformat": 4
 },
 "nbformat": 4,
 "nbformat_minor": 2
}
