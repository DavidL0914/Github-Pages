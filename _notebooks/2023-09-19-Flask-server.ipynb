{
 "cells": [
  {
   "cell_type": "markdown",
   "metadata": {},
   "source": [
    "---\n",
    "toc: false\n",
    "comments: false\n",
    "layout: post\n",
    "title: Simple Flask Server\n",
    "description: Practicing with Flask\n",
    "courses: { csp: {week: 5} }\n",
    "type: hacks\n",
    "---"
   ]
  },
  {
   "cell_type": "markdown",
   "metadata": {},
   "source": [
    "### Python Part"
   ]
  },
  {
   "cell_type": "code",
   "execution_count": null,
   "metadata": {},
   "outputs": [],
   "source": [
    "# call this file something like 'app.py'\n",
    "from flask import Flask, render_template\n",
    "app = Flask(__name)\n",
    "@app.route('/')\n",
    "def hello_world():\n",
    "    data = \"Hello, World!\"\n",
    "    return render_template('index.html', message=data)\n",
    "if __name__ == '__main__':\n",
    "    app.run()"
   ]
  },
  {
   "cell_type": "markdown",
   "metadata": {},
   "source": [
    "### HTML Part"
   ]
  },
  {
   "cell_type": "code",
   "execution_count": null,
   "metadata": {
    "vscode": {
     "languageId": "html"
    }
   },
   "outputs": [],
   "source": [
    "<!-- Make a folder 'templates' and add this 'index.html' inside of it-->\n",
    "<!DOCTYPE html>\n",
    "<html>\n",
    "<head>\n",
    "    <title>Flask Hello World</title>\n",
    "</head>\n",
    "<body>\n",
    "    <h1>Hello from Flask!</h1>\n",
    "    <p>{{ message }}</p>\n",
    "</body>\n",
    "</html>"
   ]
  }
 ],
 "metadata": {
  "language_info": {
   "name": "python"
  },
  "orig_nbformat": 4
 },
 "nbformat": 4,
 "nbformat_minor": 2
}
