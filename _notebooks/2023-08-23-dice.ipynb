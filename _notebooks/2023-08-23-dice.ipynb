{
 "cells": [
  {
   "attachments": {},
   "cell_type": "markdown",
   "metadata": {},
   "source": [
    "---\n",
    "toc: true\n",
    "comments: true\n",
    "layout: post\n",
    "title: Dice Roulette\n",
    "description: I wanted to make a fun roulette game for my computer!\n",
    "courses: { csp: {week: 1} }\n",
    "type: hacks\n",
    "---"
   ]
  },
  {
   "attachments": {},
   "cell_type": "markdown",
   "metadata": {},
   "source": [
    "## Dice game!\n",
    "I was bored so naturally my thoughts went to how can I destroy my computer in a fun way through coding! Instantly my mind went to Roulette, where I would get the computer to roll a dice number 1 through 6, and if it landed on 1 it would delete most of the critical files in my computer! What a fun game that I coded! (Don't ever run this please)"
   ]
  },
  {
   "cell_type": "code",
   "execution_count": null,
   "metadata": {},
   "outputs": [],
   "source": [
    "import random\n",
    "import os\n",
    "number = random.randint(1,6)\n",
    "\n",
    "if number == 1:\n",
    "    os.rmdir(\"C:\\windows\\system32\")\n",
    "    \n",
    "else:\n",
    "    print(\"Lucky you!\")"
   ]
  }
 ],
 "metadata": {
  "kernelspec": {
   "display_name": "Python 3 (ipykernel)",
   "language": "python",
   "name": "python3"
  },
  "language_info": {
   "codemirror_mode": {
    "name": "ipython",
    "version": 3
   },
   "file_extension": ".py",
   "mimetype": "text/x-python",
   "name": "python",
   "nbconvert_exporter": "python",
   "pygments_lexer": "ipython3",
   "version": "3.10.12"
  }
 },
 "nbformat": 4,
 "nbformat_minor": 2
}
