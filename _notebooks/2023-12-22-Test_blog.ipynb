{
 "cells": [
  {
   "cell_type": "markdown",
   "metadata": {},
   "source": [
    "---\n",
    "toc: false\n",
    "comments: true\n",
    "layout: post\n",
    "title: Collegeboard MC Blog\n",
    "courses: {csp: {week: 16}}\n",
    "type: hacks\n",
    "---"
   ]
  },
  {
   "cell_type": "markdown",
   "metadata": {},
   "source": [
    "In preparation for the CSP College Board test, I used a comprehensive study approach that encompassed various learning methods. I reviewed all my notes for each Team Teach, making sure to solidify my understanding on the concepts we covered this trimester. Throughout the Collegeboard quiz when there was a vocabulary word or topic I didn't understand or was a bit confused on, I would use online resources to enhance my understanding. I made sure to take notes on concepts I was confused on or vocabulary words I didn't know to reference in the future. I also collaborated with classmates in study groups to help clarify some of my questions and also made sure to take notes on any new information I learned from them. Throughout the Collegeboard test, I not only increased my knowledge of CSP concepts but also tested my problem-solving abilities. It's one thing to just answer random MC questions on a unit compared to taking it in a test-like format, especially one from Collegeboard that should be similar to the AP Test. As a result, I experienced significant growth, not just in my academic understanding in pseudo code and different concepts, but also familiarized myself with how the AP CSP Test will feel like. Note that I did have to leave my test half way through to take care of something else so the time is a bit long but I did take it under time pressure. "
   ]
  },
  {
   "cell_type": "markdown",
   "metadata": {},
   "source": [
    "### Corrections:\n",
    "\n",
    "Q15:\n",
    "![image](https://files.catbox.moe/g6t9jf.png)\n",
    "Program A initializes i to 1. Inside the loop, it prints i and then increments i. The loop terminates when i is greater than 10, which occurs after 10 is printed. Program A prints 1 2 3 4 5 6 7 8 9 10. Program B initializes i to 0. Inside the loop, it increments i and then prints i. The loop terminates when i equals 10, which occurs after 10 is printed. Program B prints 1 2 3 4 5 6 7 8 9 10.\n",
    "\n",
    "\n",
    "Q18:\n",
    "![image](https://files.catbox.moe/sungdc.png)\n",
    "REPEAT UNTIL (CAN_MOVE (forward) = false)\n",
    "{\n",
    "MOVE_FORWARD ()\n",
    "}\n",
    "ROTATE_RIGHT ()\n",
    "\n",
    "\n",
    "Q60:\n",
    "![image](https://files.catbox.moe/z1ohug.png)\n",
    "newList1 ← RemoveAllDups (list1)\n",
    "newList2 ← RemoveAllDups (list2)\n",
    "bothList ← Combine (newList1, newList2)\n",
    "uniqueList ← RemoveAllDups (bothList)\n",
    "count ← LENGTH (bothList) - LENGTH (uniqueList)\n",
    "\n",
    "Q62:\n",
    "Assume that the Boolean variable x is assigned the value true and the Boolean variable y is assigned the value false. Which of the following will display the value true ?\n",
    "\n",
    "If x\n",
    "    Display x or y\n",
    "\n",
    "If x or y\n",
    "    Display x\n",
    "\n",
    "\n",
    "Q65:\n",
    "![image](https://files.catbox.moe/bssrwj.png)\n",
    "animal ← Substring (\"antelope\", 5, 4)\n",
    "animal ← Concat (\"a\", animal)\n",
    "animal ← Concat (Substring (\"jackrabbit\", 1, 4), animal)\n",
    "\n",
    "animal ← Substring (\"jackrabbit\", 1, 4)\n",
    "animal ← Concat (animal, \"a\")\n",
    "animal ← Concat (animal, Substring (\"antelope\", 5, 4))"
   ]
  },
  {
   "cell_type": "markdown",
   "metadata": {},
   "source": [
    "### Notes\n",
    "\n",
    "* Overflow error - When a computer program or system tries to store more data in a fixed-size location than it can handle, resulting in data loss or corruption. It happens when the maximum limit of a particular variable or data type is exceeded.\n",
    "* Public key encryption - A method of encrypting or signing data with two different keys and making one of the keys, the public key, available for anyone to use.\n",
    "* Alphanumeric character - All 26 Latin letters, and the digits from 0-9.\n",
    "* Single-user license - Allows the program to be installed and used on one CPU which is not accessed by other users over a network.\n",
    "* Internet protocol version 6 (IPv6) - The most recent version of the Internet Protocol, the communications protocol that provides an identification and location system for computers on networks and routes traffic across the Internet.\n",
    "* IPv4 - The underlying technology that makes it possible for us to connect our devices to the web. Whenever a device accesses the Internet, it is assigned a unique, numerical IP address such as 99.48. 227.227.\n",
    "* Certificate authority - A trusted entity that issues Secure Sockets Layer (SSL) certificates. These digital certificates are data files used to cryptographically link an entity with a public key.\n",
    "* Redundant routing - A failover strategy that ensures every call connects by rerouting traffic to alternate destinations if the primary one fails.\n",
    "* Creative commons - An American non-profit organization and international network devoted to educational access and expanding the range of creative works available for others to build upon legally and to share. \n",
    "* Transmission control protocol (TCP) - One of the main protocols of the Internet protocol suite.\n",
    "* Internet Protocol (IP) - A protocol, or set of rules, for routing and addressing packets of data so that they can travel across networks and arrive at the correct destination."
   ]
  },
  {
   "cell_type": "markdown",
   "metadata": {},
   "source": []
  }
 ],
 "metadata": {
  "language_info": {
   "name": "python"
  },
  "orig_nbformat": 4
 },
 "nbformat": 4,
 "nbformat_minor": 2
}
