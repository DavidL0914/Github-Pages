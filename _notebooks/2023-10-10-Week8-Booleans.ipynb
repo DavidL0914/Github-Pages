{
 "cells": [
  {
   "cell_type": "markdown",
   "metadata": {},
   "source": [
    "---\n",
    "toc: false\n",
    "comments: true\n",
    "layout: post\n",
    "title: Booleans & Conditions (Team Teach)\n",
    "description: Notes and completely homework on Booleans & Conditions Team Teach\n",
    "courses: { csp: {week: 8} }\n",
    "type: hacks\n",
    "---"
   ]
  },
  {
   "cell_type": "markdown",
   "metadata": {},
   "source": [
    "## Notes\n",
    "### Booleans:\n",
    "\n",
    "- A data type in programming representing true or false values.\n",
    "- Used for making logical decisions and comparisons.\n",
    "- True: Represents a condition that is considered as \"true\" or \"yes.\"\n",
    "- False: Represents a condition that is considered as \"false\" or \"no.\"\n",
    "\n",
    "## Relational Operators:\n",
    "- Equal to: a = b\n",
    "- Not equal to: a != b\n",
    "- Greater than: a > b\n",
    "- Less than: a < b\n",
    "- Greater than or equal to: a >= b\n",
    "- Less than or equal to: a <= b\n",
    "\n",
    "## Conditionals\n",
    "- Condition statements are fundamental in programming. They consist of:\n",
    "    - Condition: A Boolean expression or logical test.\n",
    "    - True Block: Code executed if the condition is true.\n",
    "    - False Block (optional): Code executed if the condition is false."
   ]
  },
  {
   "cell_type": "markdown",
   "metadata": {},
   "source": [
    "## Homework"
   ]
  },
  {
   "cell_type": "code",
   "execution_count": null,
   "metadata": {},
   "outputs": [],
   "source": [
    "# HW 1 - Voting Eligibility\n",
    "# Get user input for age\n",
    "age = int(input(\"Enter your age: \"))\n",
    "\n",
    "# Check eligibility using boolean logic\n",
    "if age >= 18:\n",
    "    print(\"You are eligible to vote.\")\n",
    "else:\n",
    "    print(\"You are not eligible to vote.\")"
   ]
  },
  {
   "cell_type": "code",
   "execution_count": null,
   "metadata": {},
   "outputs": [],
   "source": [
    "# HW 2 - Employee Bonus\n",
    "# Get user input for salary and years of service\n",
    "salary = float(input(\"Enter your salary: \"))\n",
    "years_of service = int(input(\"Enter your years of service: \"))\n",
    "\n",
    "# Calculate bonus\n",
    "if years_of_service > 5:\n",
    "    bonus = 0.05 * salary\n",
    "    print(f\"Your bonus amount is ${bonus:.2f}\")\n",
    "else:\n",
    "    print(\"You are not eligible for a bonus.\")"
   ]
  },
  {
   "cell_type": "code",
   "execution_count": null,
   "metadata": {},
   "outputs": [],
   "source": [
    "# HW 3 - Grading System\n",
    "# Get user input for marks\n",
    "marks = float(input(\"Enter your marks: \"))\n",
    "\n",
    "# Determine the grade based on the grading system\n",
    "if marks < 25:\n",
    "    grade = \"F\"\n",
    "elif 25 <= marks < 45:\n",
    "    grade = \"E\"\n",
    "elif 45 <= marks < 50:\n",
    "    grade = \"D\"\n",
    "elif 50 <= marks < 60:\n",
    "    grade = \"C\"\n",
    "elif 60 <= marks < 80:\n",
    "    grade = \"B\"\n",
    "else:\n",
    "    grade = \"A\"\n",
    "\n",
    "# Print the corresponding grade\n",
    "print(f\"Your grade is: {grade}\")"
   ]
  }
 ],
 "metadata": {
  "language_info": {
   "name": "python"
  },
  "orig_nbformat": 4
 },
 "nbformat": 4,
 "nbformat_minor": 2
}
